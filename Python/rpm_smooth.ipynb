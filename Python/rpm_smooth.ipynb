{
 "cells": [
  {
   "cell_type": "markdown",
   "metadata": {},
   "source": [
    "Declarations - always run this before proceeding to diff sections below"
   ]
  },
  {
   "cell_type": "code",
   "execution_count": 8,
   "metadata": {},
   "outputs": [],
   "source": [
    "import numpy as np\n",
    "import matplotlib.pyplot as plt\n",
    "import time \n",
    "import serial\n",
    "\n",
    "# Variables\n",
    "heart_amplitude = 0.5\n",
    "heart_frequency = 40 / 60\n",
    "lung_amplitude = 0.5\n",
    "lung_frequency = 10 / 60\n",
    "sampling_rate = 20\n",
    "sampling_interval = 1 / sampling_rate\n",
    "lead_screw_lead = 8\n",
    "steps_per_revolution = 200\n",
    "wave_period = 1 / lung_frequency\n",
    "\n",
    "t_fine = np.arange(0, wave_period, 0.01)\n",
    "t_sampled = np.arange(0, wave_period, sampling_interval)\n",
    "\n",
    "def generate_motion(t, heart_amplitude, heart_frequency, lung_amplitude, lung_frequency):\n",
    "    heart_motion = heart_amplitude * np.sin(2 * np.pi * heart_frequency * t)\n",
    "    lung_motion = lung_amplitude * np.sin(2 * np.pi * lung_frequency * t)\n",
    "    combined_motion = heart_motion + lung_motion\n",
    "    return heart_motion, lung_motion, combined_motion\n",
    "\n",
    "def encode_motor_instructions(steps, sampling_rate):\n",
    "    data = ['P', f'{sampling_rate:02X}']  # Start byte 'P' and sampling rate represented in 2 hex bytes\n",
    "    for step in steps:\n",
    "        sign = '1' if step >= 0 else '0'\n",
    "        magnitude = f'{abs(step):02X}'    # mag in 2 hex bytes, sign in 1 byte, total 3 bytes per datapoint\n",
    "        data.append(sign)                \n",
    "        data.append(magnitude)\n",
    "    data.append('V')                      # End byte 'V'\n",
    "    return ''.join(data).encode('utf-8')"
   ]
  },
  {
   "cell_type": "code",
   "execution_count": 9,
   "metadata": {},
   "outputs": [
    {
     "name": "stdout",
     "output_type": "stream",
     "text": [
      "Non-encoded Motor Steps: [ 33  31  29  26  22  17  12   6   0  -5 -10 -14 -17 -20 -21 -21 -21 -19\n",
      " -16 -12  -8  -3   3   8  12  17  21  23  25  26  26  24  22  18  14   9\n",
      "   3  -3  -8 -14 -19 -23 -27 -29 -30 -31 -30 -28 -25 -21 -16 -11  -6  -1\n",
      "   4   9  13  16  18  19  19  18  16  13   9   4  -1  -6 -11 -16 -21 -25\n",
      " -28 -30 -31 -30 -29 -27 -23 -19 -14  -8  -3   3   9  14  18  22  24  26\n",
      "  26  25  23  21  17  12   8   3  -3  -8 -12 -16 -19 -21 -21 -21 -20 -17\n",
      " -14 -10  -5   0   6  12  17  22  26  29  31]\n",
      "Encoded Motor Instructions: b'P1412111F11D11A11611110C10610000500A00E01101401501501501301000C00800310310810C11111511711911A11A11811611210E10910300300800E01301701B01D01E01F01E01C01901501000B00600110410910D11011211311311211010D10910400100600B01001501901C01E01F01E01D01B01701300E00800310310910E11211611811A11A11911711511110C10810300300800C01001301501501501401100E00A00510010610C11111611A11D11FV'\n"
     ]
    }
   ],
   "source": [
    "# Sampling\n",
    "heart_motion_sampled, lung_motion_sampled, combined_motion_sampled = generate_motion(t_sampled, heart_amplitude, heart_frequency, lung_amplitude, lung_frequency)\n",
    "combined_motion_sampled_mm = combined_motion_sampled * 10 # in mm\n",
    "\n",
    "# Differences between consecutive positions\n",
    "displacements_mm = np.diff(combined_motion_sampled_mm)\n",
    "steps_per_mm = steps_per_revolution / lead_screw_lead \n",
    "motor_steps = np.round(displacements_mm * steps_per_mm).astype(int)\n",
    "\n",
    "motor_instructions = encode_motor_instructions(motor_steps, sampling_rate)\n",
    "\n",
    "print(f'Non-encoded Motor Steps: {motor_steps}')\n",
    "print(f'Encoded Motor Instructions: {motor_instructions}')\n"
   ]
  },
  {
   "cell_type": "code",
   "execution_count": 10,
   "metadata": {},
   "outputs": [
    {
     "name": "stdout",
     "output_type": "stream",
     "text": [
      "50\n",
      "End\n"
     ]
    }
   ],
   "source": [
    "ser = serial.Serial('COM4', 9600, timeout=5)\n",
    "time.sleep(2) \n",
    "ser.flush()\n",
    "ser.flushInput()\n",
    "ser.write(motor_instructions)\n",
    "\n",
    "while True:\n",
    "    if ser.in_waiting > 0:\n",
    "        line = ser.readline().decode('utf-8').rstrip()\n",
    "        if line == \"Y\":\n",
    "            break\n",
    "        print(line)\n",
    "\n",
    "# Close serial connection\n",
    "ser.close()\n",
    "print(\"End\")"
   ]
  }
 ],
 "metadata": {
  "kernelspec": {
   "display_name": "Python 3",
   "language": "python",
   "name": "python3"
  },
  "language_info": {
   "codemirror_mode": {
    "name": "ipython",
    "version": 3
   },
   "file_extension": ".py",
   "mimetype": "text/x-python",
   "name": "python",
   "nbconvert_exporter": "python",
   "pygments_lexer": "ipython3",
   "version": "3.9.4"
  }
 },
 "nbformat": 4,
 "nbformat_minor": 2
}
